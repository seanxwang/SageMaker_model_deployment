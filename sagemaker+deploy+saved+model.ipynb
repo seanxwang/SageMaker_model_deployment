{
 "cells": [
  {
   "cell_type": "markdown",
   "metadata": {},
   "source": [
    "## SageMaker model deployment in 3 simple steps\n",
    "Use of low level Python calls demonstrates behind the scene actions which allows more precise control of model deployment"
   ]
  },
  {
   "cell_type": "code",
   "execution_count": 1,
   "metadata": {
    "collapsed": true
   },
   "outputs": [],
   "source": [
    "import boto3\n",
    "from sagemaker import get_execution_role\n",
    "from time import gmtime, strftime"
   ]
  },
  {
   "cell_type": "code",
   "execution_count": 2,
   "metadata": {
    "collapsed": true
   },
   "outputs": [],
   "source": [
    "role = get_execution_role()\n",
    "smclient = boto3.client('sagemaker')\n",
    "\n",
    "containers = {'us-west-2': '433757028032.dkr.ecr.us-west-2.amazonaws.com/xgboost:latest',\n",
    "              'us-east-1': '811284229777.dkr.ecr.us-east-1.amazonaws.com/xgboost:latest',\n",
    "              'us-east-2': '825641698319.dkr.ecr.us-east-2.amazonaws.com/xgboost:latest',\n",
    "              'eu-west-1': '685385470294.dkr.ecr.eu-west-1.amazonaws.com/xgboost:latest'}\n",
    "container = containers[boto3.Session().region_name]"
   ]
  },
  {
   "cell_type": "markdown",
   "metadata": {},
   "source": [
    "## 1. create target model from saved model artifacts\n",
    "Each previously run training job saves result in S3, identified by training job name (replace with your own training job)"
   ]
  },
  {
   "cell_type": "code",
   "execution_count": 3,
   "metadata": {},
   "outputs": [
    {
     "name": "stdout",
     "output_type": "stream",
     "text": [
      "s3://dslab-west/bosch/sagemaker_hpo_output/xgb-hpo-mar01-2139-a4e92-66ad85cb-34cf-4cb5-8a5d-7c9a71/output/model.tar.gz\n"
     ]
    }
   ],
   "source": [
    "saved_model = smclient.describe_training_job(TrainingJobName='xgb-hpo-mar01-2139-a4e92-66ad85cb-34cf-4cb5-8a5d-7c9a71')\n",
    "model_url = saved_model['ModelArtifacts']['S3ModelArtifacts']\n",
    "print(model_url)"
   ]
  },
  {
   "cell_type": "code",
   "execution_count": 4,
   "metadata": {},
   "outputs": [
    {
     "name": "stdout",
     "output_type": "stream",
     "text": [
      "arn:aws:sagemaker:us-west-2:448855094770:model/xgboost-hpo-deploymodel-2018-03-18-16-15-36\n"
     ]
    }
   ],
   "source": [
    "deploy_model_name = 'xgboost-hpo-deploymodel-'+ strftime(\"%Y-%m-%d-%H-%M-%S\", gmtime())\n",
    "\n",
    "primary_container = {\n",
    "    'Image': container,\n",
    "    'ModelDataUrl': model_url\n",
    "}\n",
    "\n",
    "create_model_response = smclient.create_model(\n",
    "    ModelName = deploy_model_name,\n",
    "    ExecutionRoleArn = role,\n",
    "    PrimaryContainer = primary_container)\n",
    "\n",
    "print(create_model_response['ModelArn'])"
   ]
  },
  {
   "cell_type": "markdown",
   "metadata": {},
   "source": [
    "## 2. Configure deployment instances (service endpoints)"
   ]
  },
  {
   "cell_type": "code",
   "execution_count": 5,
   "metadata": {},
   "outputs": [
    {
     "name": "stdout",
     "output_type": "stream",
     "text": [
      "xgboost-hpo-endpoint-config-2018-03-18-16-15-37\n",
      "Endpoint Config Arn: arn:aws:sagemaker:us-west-2:448855094770:endpoint-config/xgboost-hpo-endpoint-config-2018-03-18-16-15-37\n"
     ]
    }
   ],
   "source": [
    "# create endpoint config\n",
    "endpoint_config_name = 'xgboost-hpo-endpoint-config-' + strftime(\"%Y-%m-%d-%H-%M-%S\", gmtime())\n",
    "print(endpoint_config_name)\n",
    "\n",
    "create_endpoint_config_response = smclient.create_endpoint_config(\n",
    "    EndpointConfigName = endpoint_config_name,\n",
    "    ProductionVariants=[{\n",
    "        'InstanceType':'ml.t2.medium',\n",
    "        'InitialInstanceCount':1,\n",
    "        'ModelName':deploy_model_name,\n",
    "        'VariantName':'AllTraffic'}])\n",
    "\n",
    "print(\"Endpoint Config Arn: \" + create_endpoint_config_response['EndpointConfigArn'])"
   ]
  },
  {
   "cell_type": "markdown",
   "metadata": {},
   "source": [
    "## 3. Deploy model to HTTP service endpoints"
   ]
  },
  {
   "cell_type": "code",
   "execution_count": 6,
   "metadata": {},
   "outputs": [
    {
     "name": "stdout",
     "output_type": "stream",
     "text": [
      "xgboost-hpo-endpoint-2018-03-18-16-15-37\n",
      "arn:aws:sagemaker:us-west-2:448855094770:endpoint/xgboost-hpo-endpoint-2018-03-18-16-15-37\n",
      "Status: Creating\n",
      "Arn: arn:aws:sagemaker:us-west-2:448855094770:endpoint/xgboost-hpo-endpoint-2018-03-18-16-15-37\n",
      "Create endpoint ended with status: InService\n"
     ]
    }
   ],
   "source": [
    "#create endpoint\n",
    "endpoint_name = 'xgboost-hpo-endpoint-' + strftime(\"%Y-%m-%d-%H-%M-%S\", gmtime())\n",
    "print(endpoint_name)\n",
    "create_endpoint_response = smclient.create_endpoint(\n",
    "    EndpointName=endpoint_name,\n",
    "    EndpointConfigName=endpoint_config_name)\n",
    "print(create_endpoint_response['EndpointArn'])\n",
    "\n",
    "resp = smclient.describe_endpoint(EndpointName=endpoint_name)\n",
    "status = resp['EndpointStatus']\n",
    "print(\"Status: \" + status)\n",
    "try:\n",
    "    smclient.get_waiter('endpoint_in_service').wait(EndpointName=endpoint_name)\n",
    "finally:\n",
    "    resp = smclient.describe_endpoint(EndpointName=endpoint_name)\n",
    "    status = resp['EndpointStatus']\n",
    "    print(\"Arn: \" + resp['EndpointArn'])\n",
    "    print(\"Create endpoint ended with status: \" + status)\n",
    "\n",
    "    if status != 'InService':\n",
    "        message = smclient.describe_endpoint(EndpointName=endpoint_name)['FailureReason']\n",
    "        print('Training failed with the following error: {}'.format(message))\n",
    "        raise Exception('Endpoint creation did not succeed')"
   ]
  }
 ],
 "metadata": {
  "kernelspec": {
   "display_name": "conda_python3",
   "language": "python",
   "name": "conda_python3"
  },
  "language_info": {
   "codemirror_mode": {
    "name": "ipython",
    "version": 3
   },
   "file_extension": ".py",
   "mimetype": "text/x-python",
   "name": "python",
   "nbconvert_exporter": "python",
   "pygments_lexer": "ipython3",
   "version": "3.6.2"
  }
 },
 "nbformat": 4,
 "nbformat_minor": 2
}
